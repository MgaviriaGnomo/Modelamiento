{
 "cells": [
  {
   "cell_type": "code",
   "execution_count": null,
   "metadata": {},
   "outputs": [],
   "source": [
    "import optuna\n",
    "import mlflow\n",
    "import pandas as pd\n",
    "import numpy as np\n",
    "import metrics"
   ]
  },
  {
   "cell_type": "code",
   "execution_count": null,
   "metadata": {},
   "outputs": [],
   "source": [
    "from sklearn.experimental import enable_hist_gradient_boosting\n",
    "from sklearn.ensemble import AdaBoostClassifier\n",
    "from sklearn.metrics import roc_auc_score"
   ]
  },
  {
   "cell_type": "code",
   "execution_count": null,
   "metadata": {},
   "outputs": [],
   "source": [
    "base = pd.read_csv(r\"\", sep=\";\")"
   ]
  },
  {
   "cell_type": "code",
   "execution_count": null,
   "metadata": {},
   "outputs": [],
   "source": [
    "dt = base\n",
    "dt"
   ]
  },
  {
   "cell_type": "code",
   "execution_count": null,
   "metadata": {},
   "outputs": [],
   "source": [
    "base.drop([], axis =1, inplace = True)"
   ]
  },
  {
   "cell_type": "code",
   "execution_count": null,
   "metadata": {},
   "outputs": [],
   "source": [
    "vars_selected = []"
   ]
  },
  {
   "cell_type": "code",
   "execution_count": null,
   "metadata": {},
   "outputs": [],
   "source": [
    "X_train = base[base.destino == \"Train\"]\n",
    "y_train = base.label[base.destino == \"Train\"]\n",
    "X_test = base[base.destino == \"Test\"]\n",
    "y_test = base.label[base.destino == \"Test\"]"
   ]
  },
  {
   "cell_type": "code",
   "execution_count": null,
   "metadata": {},
   "outputs": [],
   "source": [
    "X_train.drop([\"destino\",\"label\"],axis = 1,inplace = True)\n",
    "X_test.drop([\"destino\",\"label\"],axis = 1,inplace = True)"
   ]
  },
  {
   "cell_type": "code",
   "execution_count": null,
   "metadata": {},
   "outputs": [],
   "source": [
    "X_train = X_train[vars_selected]\n",
    "X_test = X_test[vars_selected]"
   ]
  },
  {
   "cell_type": "markdown",
   "metadata": {},
   "source": [
    "# AdaBoost"
   ]
  },
  {
   "cell_type": "code",
   "execution_count": null,
   "metadata": {},
   "outputs": [],
   "source": [
    "from sklearn import metrics"
   ]
  },
  {
   "cell_type": "code",
   "execution_count": null,
   "metadata": {},
   "outputs": [],
   "source": [
    "def objective(trial):\n",
    "    params = {\n",
    "        'n_estimators': trial.suggest_int('n_estimators', 1, 300),\n",
    "        'learning_rate': trial.suggest_float('learning_rate', 0, 1),\n",
    "    }\n",
    "    \n",
    "    clf = AdaBoostClassifier(\n",
    "        base_estimator = None,\n",
    "        random_state=42).set_params(**params)\n",
    "\n",
    "    clf.fit(X_train, y_train)\n",
    "    \n",
    "    probs_train = clf.predict_proba(X_train)[:, 1]\n",
    "    probs_test = clf.predict_proba(X_test)[:, 1]\n",
    "    \n",
    "    roc_auc_train = roc_auc_score(y_train, probs_train)\n",
    "    roc_auc_test = roc_auc_score(y_test, probs_test)\n",
    "    \n",
    "    fpr1, tpr1, threshold1 = metrics.roc_curve(y_train, clf.predict_proba(X_train)[:,1])\n",
    "    fpr2, tpr2, threshold2 = metrics.roc_curve(y_test, clf.predict_proba(X_test)[:,1])\n",
    "    \n",
    "    train_auc = metrics.auc(fpr1,tpr1)\n",
    "    test_auc =metrics.auc(fpr2,tpr2)\n",
    "    \n",
    "    loss = (1 - roc_auc_train)+(roc_auc_train - roc_auc_test)\n",
    "    \n",
    "    with mlflow.start_run(nested=True):\n",
    "        mlflow.log_params(params)\n",
    "        mlflow.log_metric('roc_auc_train', roc_auc_train)\n",
    "        mlflow.log_metric('roc_auc_test', roc_auc_test)\n",
    "        mlflow.log_metric('score_train_auc', train_auc)\n",
    "        mlflow.log_metric('score_test_auc', test_auc)\n",
    "    \n",
    "    return loss"
   ]
  },
  {
   "cell_type": "code",
   "execution_count": null,
   "metadata": {},
   "outputs": [],
   "source": [
    "# 460 minutos de rutina"
   ]
  },
  {
   "cell_type": "code",
   "execution_count": null,
   "metadata": {},
   "outputs": [],
   "source": [
    "with mlflow.start_run() as run:\n",
    "    print(\"tags.mlflow.parentRunId = '\" + run.info.run_id + \"'\")\n",
    "    \n",
    "    sampler = optuna.samplers.RandomSampler(seed=15)\n",
    "\n",
    "    study = optuna.create_study(sampler=sampler, direction='minimize')\n",
    "    study.optimize(objective, n_trials=300, show_progress_bar=True)"
   ]
  },
  {
   "cell_type": "code",
   "execution_count": null,
   "metadata": {},
   "outputs": [],
   "source": [
    "study.best_params"
   ]
  },
  {
   "cell_type": "code",
   "execution_count": null,
   "metadata": {},
   "outputs": [],
   "source": [
    "clf = AdaBoostClassifier(n_estimators = 277, learning_rate = 0.8756659420813518)"
   ]
  },
  {
   "cell_type": "code",
   "execution_count": null,
   "metadata": {},
   "outputs": [],
   "source": [
    "clf.fit(X_train, y_train)"
   ]
  },
  {
   "cell_type": "code",
   "execution_count": null,
   "metadata": {},
   "outputs": [],
   "source": [
    "y_pred = pd.DataFrame(clf.predict_proba(X_train))[0]"
   ]
  },
  {
   "cell_type": "code",
   "execution_count": null,
   "metadata": {},
   "outputs": [],
   "source": [
    "fpr1, tpr1, threshold1 = metrics.roc_curve(y_train, clf.predict_proba(X_train)[:,1])\n",
    "fpr2, tpr2, threshold2 = metrics.roc_curve(y_test, clf.predict_proba(X_test)[:,1])"
   ]
  },
  {
   "cell_type": "code",
   "execution_count": null,
   "metadata": {},
   "outputs": [],
   "source": [
    "print(\"train_auc =\",metrics.auc(fpr1,tpr1))\n",
    "print(\"test_auc =\",metrics.auc(fpr2,tpr2))"
   ]
  },
  {
   "cell_type": "code",
   "execution_count": null,
   "metadata": {},
   "outputs": [],
   "source": [
    "optuna.visualization.plot_optimization_history(study).show()"
   ]
  },
  {
   "cell_type": "code",
   "execution_count": null,
   "metadata": {},
   "outputs": [],
   "source": [
    "import joblib\n",
    "joblib.dump(study,\"studyada.pkl\")"
   ]
  },
  {
   "cell_type": "code",
   "execution_count": null,
   "metadata": {},
   "outputs": [],
   "source": [
    "modada = joblib.load(r\"C:\\Users\\mgaviria\\Documents\\Autocura\\ETLS AC\\Seleccion Hiperparams\\studyada.pkl\")"
   ]
  },
  {
   "cell_type": "code",
   "execution_count": null,
   "metadata": {},
   "outputs": [],
   "source": [
    "import optuna\n",
    "optuna.visualization.plot_parallel_coordinate(modada)"
   ]
  },
  {
   "cell_type": "code",
   "execution_count": null,
   "metadata": {},
   "outputs": [],
   "source": [
    "optuna.visualization.plot_param_importances(modada)"
   ]
  },
  {
   "cell_type": "code",
   "execution_count": null,
   "metadata": {},
   "outputs": [],
   "source": []
  },
  {
   "cell_type": "code",
   "execution_count": null,
   "metadata": {},
   "outputs": [],
   "source": []
  },
  {
   "cell_type": "code",
   "execution_count": null,
   "metadata": {},
   "outputs": [],
   "source": []
  },
  {
   "cell_type": "code",
   "execution_count": null,
   "metadata": {},
   "outputs": [],
   "source": []
  },
  {
   "cell_type": "code",
   "execution_count": null,
   "metadata": {},
   "outputs": [],
   "source": []
  }
 ],
 "metadata": {
  "kernelspec": {
   "display_name": "Python 3",
   "language": "python",
   "name": "python3"
  },
  "language_info": {
   "codemirror_mode": {
    "name": "ipython",
    "version": 3
   },
   "file_extension": ".py",
   "mimetype": "text/x-python",
   "name": "python",
   "nbconvert_exporter": "python",
   "pygments_lexer": "ipython3",
   "version": "3.7.4"
  },
  "orig_nbformat": 4,
  "vscode": {
   "interpreter": {
    "hash": "dfdc1f4d130472e25ee768ad112455ab2bb9083ff73cf1b107f14e8203aa2e64"
   }
  }
 },
 "nbformat": 4,
 "nbformat_minor": 2
}
